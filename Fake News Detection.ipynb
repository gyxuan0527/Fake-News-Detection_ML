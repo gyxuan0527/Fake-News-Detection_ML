{
 "cells": [
  {
   "cell_type": "code",
   "execution_count": 1,
   "metadata": {},
   "outputs": [],
   "source": [
    "import pandas as pd\n",
    "import numpy as np\n",
    "import matplotlib.pyplot as plt\n",
    "from sklearn.metrics import precision_score, accuracy_score, recall_score\n",
    "from sklearn.metrics import f1_score\n",
    "\n",
    "%matplotlib inline\n",
    "\n",
    "train=pd.read_csv('train.csv',delimiter=\"\\t\")\n",
    "test=pd.read_csv('test.csv',delimiter=\"\\t\")\n",
    "sample_submission=pd.read_csv('sample_submission.csv',delimiter=\"\\t\")"
   ]
  },
  {
   "cell_type": "code",
   "execution_count": 2,
   "metadata": {},
   "outputs": [
    {
     "name": "stdout",
     "output_type": "stream",
     "text": [
      "text     content\n",
      "label      label\n",
      "Name: 1615, dtype: object\n"
     ]
    }
   ],
   "source": [
    "print(train.loc[1615])\n",
    "train = train.drop([1615])"
   ]
  },
  {
   "cell_type": "code",
   "execution_count": 3,
   "metadata": {},
   "outputs": [],
   "source": [
    "# train = train.iloc[0:100]\n",
    "# test = test.iloc[0:100]\n",
    "# sample_submission = sample_submission.iloc[0:100]"
   ]
  },
  {
   "cell_type": "code",
   "execution_count": 4,
   "metadata": {
    "scrolled": false
   },
   "outputs": [
    {
     "name": "stdout",
     "output_type": "stream",
     "text": [
      "4986\n"
     ]
    }
   ],
   "source": [
    "y_train=train['label'].astype(int)\n",
    "x_train=train.drop(labels=['label'],axis='columns')\n",
    "x_train = [row[0] for row in x_train.itertuples(index=False, name=None)]\n",
    "print(len(x_train))"
   ]
  },
  {
   "cell_type": "code",
   "execution_count": 5,
   "metadata": {},
   "outputs": [
    {
     "name": "stdout",
     "output_type": "stream",
     "text": [
      "1247\n"
     ]
    }
   ],
   "source": [
    "x_test = [row[1] for row in test.itertuples(index=False, name=None)]\n",
    "sample_submission['label']=sample_submission['id,label'].str.split(\",\", expand=True)[1]\n",
    "y_test=sample_submission['label'].astype(int)\n",
    "print(len(x_test))"
   ]
  },
  {
   "cell_type": "code",
   "execution_count": 6,
   "metadata": {},
   "outputs": [],
   "source": [
    "X = x_train + x_test"
   ]
  },
  {
   "cell_type": "code",
   "execution_count": 10,
   "metadata": {},
   "outputs": [
    {
     "name": "stdout",
     "output_type": "stream",
     "text": [
      "  (0, 63437)\t0.03540829073968372\n",
      "  (0, 16936)\t0.07227264576797078\n",
      "  (0, 49837)\t0.09427437031041294\n",
      "  (0, 24319)\t0.04707026507134847\n",
      "  (0, 8433)\t0.0341148500183977\n",
      "  (0, 15139)\t0.08596900512022575\n",
      "  (0, 29050)\t0.0629554085190997\n",
      "  (0, 27695)\t0.09384627416875913\n",
      "  (0, 38271)\t0.03580837630267738\n",
      "  (0, 26614)\t0.028943030763365657\n",
      "  (0, 56222)\t0.05321403963910155\n",
      "  (0, 50177)\t0.02979315592158049\n",
      "  (0, 47600)\t0.050472702109851726\n",
      "  (0, 54612)\t0.10205965907736804\n",
      "  (0, 9096)\t0.061063150315351505\n",
      "  (0, 56417)\t0.10726750677907626\n",
      "  (0, 37734)\t0.11096253352707695\n",
      "  (0, 66338)\t0.1044014213684601\n",
      "  (0, 33445)\t0.05489507427815497\n",
      "  (0, 67026)\t0.053071589386156165\n",
      "  (0, 28137)\t0.0801636481589958\n",
      "  (0, 36847)\t0.06390726115633344\n",
      "  (0, 32027)\t0.037021474545734026\n",
      "  (0, 53349)\t0.021668952166538167\n",
      "  (0, 36889)\t0.03313835044087219\n",
      "  :\t:\n",
      "  (6232, 43958)\t0.043842768238958066\n",
      "  (6232, 61838)\t0.07977037232970274\n",
      "  (6232, 18355)\t0.03711471914828537\n",
      "  (6232, 66334)\t0.028151850144743893\n",
      "  (6232, 54541)\t0.03448094546491404\n",
      "  (6232, 38114)\t0.02825388374728959\n",
      "  (6232, 59538)\t0.07090567414469356\n",
      "  (6232, 51310)\t0.03601408615848597\n",
      "  (6232, 41115)\t0.03472758166279476\n",
      "  (6232, 4530)\t0.0580312239788452\n",
      "  (6232, 50168)\t0.03812561001040711\n",
      "  (6232, 38249)\t0.06164584562672365\n",
      "  (6232, 22859)\t0.05407221699085967\n",
      "  (6232, 16883)\t0.03446874388005303\n",
      "  (6232, 23117)\t0.04340295767072299\n",
      "  (6232, 31748)\t0.03286030296863175\n",
      "  (6232, 36889)\t0.03140184829901789\n",
      "  (6232, 37374)\t0.025554097667489416\n",
      "  (6232, 11114)\t0.03336204935014181\n",
      "  (6232, 1374)\t0.04514855922856926\n",
      "  (6232, 44041)\t0.02591708515331137\n",
      "  (6232, 55272)\t0.03238869976681948\n",
      "  (6232, 29629)\t0.03177726130657379\n",
      "  (6232, 42732)\t0.04421729255461627\n",
      "  (6232, 55951)\t0.04084562611004394\n"
     ]
    }
   ],
   "source": [
    "from sklearn.feature_extraction.text import TfidfVectorizer\n",
    "\n",
    "vectorizer_train = TfidfVectorizer(stop_words='english')\n",
    "\n",
    "train_tfidf = vectorizer_train.fit_transform(X)\n",
    "print(train_tfidf)"
   ]
  },
  {
   "cell_type": "code",
   "execution_count": 8,
   "metadata": {},
   "outputs": [
    {
     "name": "stdout",
     "output_type": "stream",
     "text": [
      "TFIDF\n"
     ]
    },
    {
     "data": {
      "text/html": [
       "<div>\n",
       "<style scoped>\n",
       "    .dataframe tbody tr th:only-of-type {\n",
       "        vertical-align: middle;\n",
       "    }\n",
       "\n",
       "    .dataframe tbody tr th {\n",
       "        vertical-align: top;\n",
       "    }\n",
       "\n",
       "    .dataframe thead th {\n",
       "        text-align: right;\n",
       "    }\n",
       "</style>\n",
       "<table border=\"1\" class=\"dataframe\">\n",
       "  <thead>\n",
       "    <tr style=\"text-align: right;\">\n",
       "      <th></th>\n",
       "      <th>00</th>\n",
       "      <th>000</th>\n",
       "      <th>000000</th>\n",
       "      <th>0001</th>\n",
       "      <th>0008</th>\n",
       "      <th>0009</th>\n",
       "      <th>000th</th>\n",
       "      <th>000z</th>\n",
       "      <th>001</th>\n",
       "      <th>001100</th>\n",
       "      <th>...</th>\n",
       "      <th>女の子</th>\n",
       "      <th>意志</th>\n",
       "      <th>日新丸</th>\n",
       "      <th>日本語</th>\n",
       "      <th>送料無料</th>\n",
       "      <th>ꮙꭵꭼꮃ</th>\n",
       "      <th>ꮲꮢꭵsꮯꭵꮮꮮꭺ</th>\n",
       "      <th>의지</th>\n",
       "      <th>ﬁnds</th>\n",
       "      <th>𝖅𝖆𝖈𝖍</th>\n",
       "    </tr>\n",
       "  </thead>\n",
       "  <tbody>\n",
       "    <tr>\n",
       "      <th>0</th>\n",
       "      <td>0.0</td>\n",
       "      <td>0.0</td>\n",
       "      <td>0.0</td>\n",
       "      <td>0.0</td>\n",
       "      <td>0.0</td>\n",
       "      <td>0.0</td>\n",
       "      <td>0.0</td>\n",
       "      <td>0.0</td>\n",
       "      <td>0.0</td>\n",
       "      <td>0.0</td>\n",
       "      <td>...</td>\n",
       "      <td>0.0</td>\n",
       "      <td>0.0</td>\n",
       "      <td>0.0</td>\n",
       "      <td>0.0</td>\n",
       "      <td>0.0</td>\n",
       "      <td>0.0</td>\n",
       "      <td>0.0</td>\n",
       "      <td>0.0</td>\n",
       "      <td>0.0</td>\n",
       "      <td>0.0</td>\n",
       "    </tr>\n",
       "    <tr>\n",
       "      <th>1</th>\n",
       "      <td>0.0</td>\n",
       "      <td>0.0</td>\n",
       "      <td>0.0</td>\n",
       "      <td>0.0</td>\n",
       "      <td>0.0</td>\n",
       "      <td>0.0</td>\n",
       "      <td>0.0</td>\n",
       "      <td>0.0</td>\n",
       "      <td>0.0</td>\n",
       "      <td>0.0</td>\n",
       "      <td>...</td>\n",
       "      <td>0.0</td>\n",
       "      <td>0.0</td>\n",
       "      <td>0.0</td>\n",
       "      <td>0.0</td>\n",
       "      <td>0.0</td>\n",
       "      <td>0.0</td>\n",
       "      <td>0.0</td>\n",
       "      <td>0.0</td>\n",
       "      <td>0.0</td>\n",
       "      <td>0.0</td>\n",
       "    </tr>\n",
       "    <tr>\n",
       "      <th>2</th>\n",
       "      <td>0.0</td>\n",
       "      <td>0.0</td>\n",
       "      <td>0.0</td>\n",
       "      <td>0.0</td>\n",
       "      <td>0.0</td>\n",
       "      <td>0.0</td>\n",
       "      <td>0.0</td>\n",
       "      <td>0.0</td>\n",
       "      <td>0.0</td>\n",
       "      <td>0.0</td>\n",
       "      <td>...</td>\n",
       "      <td>0.0</td>\n",
       "      <td>0.0</td>\n",
       "      <td>0.0</td>\n",
       "      <td>0.0</td>\n",
       "      <td>0.0</td>\n",
       "      <td>0.0</td>\n",
       "      <td>0.0</td>\n",
       "      <td>0.0</td>\n",
       "      <td>0.0</td>\n",
       "      <td>0.0</td>\n",
       "    </tr>\n",
       "    <tr>\n",
       "      <th>3</th>\n",
       "      <td>0.0</td>\n",
       "      <td>0.0</td>\n",
       "      <td>0.0</td>\n",
       "      <td>0.0</td>\n",
       "      <td>0.0</td>\n",
       "      <td>0.0</td>\n",
       "      <td>0.0</td>\n",
       "      <td>0.0</td>\n",
       "      <td>0.0</td>\n",
       "      <td>0.0</td>\n",
       "      <td>...</td>\n",
       "      <td>0.0</td>\n",
       "      <td>0.0</td>\n",
       "      <td>0.0</td>\n",
       "      <td>0.0</td>\n",
       "      <td>0.0</td>\n",
       "      <td>0.0</td>\n",
       "      <td>0.0</td>\n",
       "      <td>0.0</td>\n",
       "      <td>0.0</td>\n",
       "      <td>0.0</td>\n",
       "    </tr>\n",
       "    <tr>\n",
       "      <th>4</th>\n",
       "      <td>0.0</td>\n",
       "      <td>0.0</td>\n",
       "      <td>0.0</td>\n",
       "      <td>0.0</td>\n",
       "      <td>0.0</td>\n",
       "      <td>0.0</td>\n",
       "      <td>0.0</td>\n",
       "      <td>0.0</td>\n",
       "      <td>0.0</td>\n",
       "      <td>0.0</td>\n",
       "      <td>...</td>\n",
       "      <td>0.0</td>\n",
       "      <td>0.0</td>\n",
       "      <td>0.0</td>\n",
       "      <td>0.0</td>\n",
       "      <td>0.0</td>\n",
       "      <td>0.0</td>\n",
       "      <td>0.0</td>\n",
       "      <td>0.0</td>\n",
       "      <td>0.0</td>\n",
       "      <td>0.0</td>\n",
       "    </tr>\n",
       "    <tr>\n",
       "      <th>...</th>\n",
       "      <td>...</td>\n",
       "      <td>...</td>\n",
       "      <td>...</td>\n",
       "      <td>...</td>\n",
       "      <td>...</td>\n",
       "      <td>...</td>\n",
       "      <td>...</td>\n",
       "      <td>...</td>\n",
       "      <td>...</td>\n",
       "      <td>...</td>\n",
       "      <td>...</td>\n",
       "      <td>...</td>\n",
       "      <td>...</td>\n",
       "      <td>...</td>\n",
       "      <td>...</td>\n",
       "      <td>...</td>\n",
       "      <td>...</td>\n",
       "      <td>...</td>\n",
       "      <td>...</td>\n",
       "      <td>...</td>\n",
       "      <td>...</td>\n",
       "    </tr>\n",
       "    <tr>\n",
       "      <th>6228</th>\n",
       "      <td>0.0</td>\n",
       "      <td>0.0</td>\n",
       "      <td>0.0</td>\n",
       "      <td>0.0</td>\n",
       "      <td>0.0</td>\n",
       "      <td>0.0</td>\n",
       "      <td>0.0</td>\n",
       "      <td>0.0</td>\n",
       "      <td>0.0</td>\n",
       "      <td>0.0</td>\n",
       "      <td>...</td>\n",
       "      <td>0.0</td>\n",
       "      <td>0.0</td>\n",
       "      <td>0.0</td>\n",
       "      <td>0.0</td>\n",
       "      <td>0.0</td>\n",
       "      <td>0.0</td>\n",
       "      <td>0.0</td>\n",
       "      <td>0.0</td>\n",
       "      <td>0.0</td>\n",
       "      <td>0.0</td>\n",
       "    </tr>\n",
       "    <tr>\n",
       "      <th>6229</th>\n",
       "      <td>0.0</td>\n",
       "      <td>0.0</td>\n",
       "      <td>0.0</td>\n",
       "      <td>0.0</td>\n",
       "      <td>0.0</td>\n",
       "      <td>0.0</td>\n",
       "      <td>0.0</td>\n",
       "      <td>0.0</td>\n",
       "      <td>0.0</td>\n",
       "      <td>0.0</td>\n",
       "      <td>...</td>\n",
       "      <td>0.0</td>\n",
       "      <td>0.0</td>\n",
       "      <td>0.0</td>\n",
       "      <td>0.0</td>\n",
       "      <td>0.0</td>\n",
       "      <td>0.0</td>\n",
       "      <td>0.0</td>\n",
       "      <td>0.0</td>\n",
       "      <td>0.0</td>\n",
       "      <td>0.0</td>\n",
       "    </tr>\n",
       "    <tr>\n",
       "      <th>6230</th>\n",
       "      <td>0.0</td>\n",
       "      <td>0.0</td>\n",
       "      <td>0.0</td>\n",
       "      <td>0.0</td>\n",
       "      <td>0.0</td>\n",
       "      <td>0.0</td>\n",
       "      <td>0.0</td>\n",
       "      <td>0.0</td>\n",
       "      <td>0.0</td>\n",
       "      <td>0.0</td>\n",
       "      <td>...</td>\n",
       "      <td>0.0</td>\n",
       "      <td>0.0</td>\n",
       "      <td>0.0</td>\n",
       "      <td>0.0</td>\n",
       "      <td>0.0</td>\n",
       "      <td>0.0</td>\n",
       "      <td>0.0</td>\n",
       "      <td>0.0</td>\n",
       "      <td>0.0</td>\n",
       "      <td>0.0</td>\n",
       "    </tr>\n",
       "    <tr>\n",
       "      <th>6231</th>\n",
       "      <td>0.0</td>\n",
       "      <td>0.0</td>\n",
       "      <td>0.0</td>\n",
       "      <td>0.0</td>\n",
       "      <td>0.0</td>\n",
       "      <td>0.0</td>\n",
       "      <td>0.0</td>\n",
       "      <td>0.0</td>\n",
       "      <td>0.0</td>\n",
       "      <td>0.0</td>\n",
       "      <td>...</td>\n",
       "      <td>0.0</td>\n",
       "      <td>0.0</td>\n",
       "      <td>0.0</td>\n",
       "      <td>0.0</td>\n",
       "      <td>0.0</td>\n",
       "      <td>0.0</td>\n",
       "      <td>0.0</td>\n",
       "      <td>0.0</td>\n",
       "      <td>0.0</td>\n",
       "      <td>0.0</td>\n",
       "    </tr>\n",
       "    <tr>\n",
       "      <th>6232</th>\n",
       "      <td>0.0</td>\n",
       "      <td>0.0</td>\n",
       "      <td>0.0</td>\n",
       "      <td>0.0</td>\n",
       "      <td>0.0</td>\n",
       "      <td>0.0</td>\n",
       "      <td>0.0</td>\n",
       "      <td>0.0</td>\n",
       "      <td>0.0</td>\n",
       "      <td>0.0</td>\n",
       "      <td>...</td>\n",
       "      <td>0.0</td>\n",
       "      <td>0.0</td>\n",
       "      <td>0.0</td>\n",
       "      <td>0.0</td>\n",
       "      <td>0.0</td>\n",
       "      <td>0.0</td>\n",
       "      <td>0.0</td>\n",
       "      <td>0.0</td>\n",
       "      <td>0.0</td>\n",
       "      <td>0.0</td>\n",
       "    </tr>\n",
       "  </tbody>\n",
       "</table>\n",
       "<p>6233 rows × 69450 columns</p>\n",
       "</div>"
      ],
      "text/plain": [
       "       00  000  000000  0001  0008  0009  000th  000z  001  001100  ...  女の子  \\\n",
       "0     0.0  0.0     0.0   0.0   0.0   0.0    0.0   0.0  0.0     0.0  ...  0.0   \n",
       "1     0.0  0.0     0.0   0.0   0.0   0.0    0.0   0.0  0.0     0.0  ...  0.0   \n",
       "2     0.0  0.0     0.0   0.0   0.0   0.0    0.0   0.0  0.0     0.0  ...  0.0   \n",
       "3     0.0  0.0     0.0   0.0   0.0   0.0    0.0   0.0  0.0     0.0  ...  0.0   \n",
       "4     0.0  0.0     0.0   0.0   0.0   0.0    0.0   0.0  0.0     0.0  ...  0.0   \n",
       "...   ...  ...     ...   ...   ...   ...    ...   ...  ...     ...  ...  ...   \n",
       "6228  0.0  0.0     0.0   0.0   0.0   0.0    0.0   0.0  0.0     0.0  ...  0.0   \n",
       "6229  0.0  0.0     0.0   0.0   0.0   0.0    0.0   0.0  0.0     0.0  ...  0.0   \n",
       "6230  0.0  0.0     0.0   0.0   0.0   0.0    0.0   0.0  0.0     0.0  ...  0.0   \n",
       "6231  0.0  0.0     0.0   0.0   0.0   0.0    0.0   0.0  0.0     0.0  ...  0.0   \n",
       "6232  0.0  0.0     0.0   0.0   0.0   0.0    0.0   0.0  0.0     0.0  ...  0.0   \n",
       "\n",
       "       意志  日新丸  日本語  送料無料  ꮙꭵꭼꮃ  ꮲꮢꭵsꮯꭵꮮꮮꭺ   의지  ﬁnds  𝖅𝖆𝖈𝖍  \n",
       "0     0.0  0.0  0.0   0.0   0.0        0.0  0.0   0.0   0.0  \n",
       "1     0.0  0.0  0.0   0.0   0.0        0.0  0.0   0.0   0.0  \n",
       "2     0.0  0.0  0.0   0.0   0.0        0.0  0.0   0.0   0.0  \n",
       "3     0.0  0.0  0.0   0.0   0.0        0.0  0.0   0.0   0.0  \n",
       "4     0.0  0.0  0.0   0.0   0.0        0.0  0.0   0.0   0.0  \n",
       "...   ...  ...  ...   ...   ...        ...  ...   ...   ...  \n",
       "6228  0.0  0.0  0.0   0.0   0.0        0.0  0.0   0.0   0.0  \n",
       "6229  0.0  0.0  0.0   0.0   0.0        0.0  0.0   0.0   0.0  \n",
       "6230  0.0  0.0  0.0   0.0   0.0        0.0  0.0   0.0   0.0  \n",
       "6231  0.0  0.0  0.0   0.0   0.0        0.0  0.0   0.0   0.0  \n",
       "6232  0.0  0.0  0.0   0.0   0.0        0.0  0.0   0.0   0.0  \n",
       "\n",
       "[6233 rows x 69450 columns]"
      ]
     },
     "execution_count": 8,
     "metadata": {},
     "output_type": "execute_result"
    }
   ],
   "source": [
    "r = pd.DataFrame(train_tfidf.toarray(),columns=vectorizer_train.get_feature_names())\n",
    "print(\"TFIDF\")\n",
    "r"
   ]
  },
  {
   "cell_type": "code",
   "execution_count": 9,
   "metadata": {
    "scrolled": true
   },
   "outputs": [],
   "source": [
    "x_train=r[0:4986]\n",
    "x_test=r[4986:]\n",
    "# x_train=r[0:100]\n",
    "# x_test=r[100:]"
   ]
  },
  {
   "cell_type": "code",
   "execution_count": 10,
   "metadata": {
    "scrolled": true
   },
   "outputs": [
    {
     "name": "stdout",
     "output_type": "stream",
     "text": [
      "Precision:0.5080213903743316\n",
      "Recall:0.9047619047619048\n",
      "Accuracy:0.5092221331194867\n",
      "F-measure:0.6506849315068494\n"
     ]
    }
   ],
   "source": [
    "from sklearn.ensemble import GradientBoostingClassifier\n",
    "\n",
    "clf = GradientBoostingClassifier(learning_rate=0.08, max_depth=4, n_estimators=1000,max_features=4,min_samples_split=45, min_samples_leaf=3,subsample=0.65, random_state=10)\n",
    "clf.fit(x_train, y_train)\n",
    "y_pred = clf.predict(x_test)\n",
    "       \n",
    "precision = precision_score(y_test, y_pred,pos_label=0)\n",
    "recall = recall_score(y_test, y_pred,pos_label=0)\n",
    "accuracy = accuracy_score(y_test, y_pred)\n",
    "f_score = f1_score(y_test, y_pred, average='binary',pos_label=0)\n",
    "\n",
    "print(\"Precision:\"+str(precision))\n",
    "print(\"Recall:\"+str(recall))\n",
    "print(\"Accuracy:\"+str(accuracy))\n",
    "print(\"F-measure:\"+str(f_score))"
   ]
  },
  {
   "cell_type": "code",
   "execution_count": 11,
   "metadata": {},
   "outputs": [],
   "source": [
    "import xgboost as xgb\n",
    "\n",
    "train = xgb.DMatrix(x_train, label=y_train)\n",
    "test = xgb.DMatrix(x_test, label=y_test)"
   ]
  },
  {
   "cell_type": "code",
   "execution_count": 12,
   "metadata": {},
   "outputs": [],
   "source": [
    "num_round = 100\n",
    "param = {'max_depth':1, 'eta':1, 'objective':'binary:logistic'}\n",
    "bst = xgb.train(param, train, num_round)\n",
    "preds = bst.predict(test)"
   ]
  },
  {
   "cell_type": "code",
   "execution_count": 13,
   "metadata": {},
   "outputs": [
    {
     "data": {
      "text/plain": [
       "array([1, 0, 1, ..., 1, 0, 0])"
      ]
     },
     "execution_count": 13,
     "metadata": {},
     "output_type": "execute_result"
    }
   ],
   "source": [
    "preds = np.where(preds < 0.5, 0, 1)\n",
    "preds"
   ]
  },
  {
   "cell_type": "code",
   "execution_count": 14,
   "metadata": {},
   "outputs": [
    {
     "name": "stdout",
     "output_type": "stream",
     "text": [
      "Precision:0.5\n",
      "Recall:0.653968253968254\n",
      "Accuracy:0.49478748997594224\n",
      "F-measure:0.5667125171939478\n"
     ]
    }
   ],
   "source": [
    "accuracy = accuracy_score(y_test, preds)\n",
    "precision = precision_score(y_test, preds,pos_label=0)\n",
    "recall = recall_score(y_test, preds,pos_label=0)\n",
    "ff_score = f1_score(y_test, preds, average='binary',pos_label=0)\n",
    "print(\"Precision:\"+str(precision))\n",
    "print(\"Recall:\"+str(recall))\n",
    "print(\"Accuracy:\"+str(accuracy))\n",
    "print(\"F-measure:\"+str(ff_score))"
   ]
  },
  {
   "cell_type": "code",
   "execution_count": 15,
   "metadata": {},
   "outputs": [],
   "source": [
    "from sklearn.experimental import enable_hist_gradient_boosting\n",
    "import lightgbm\n",
    "from lightgbm import LGBMClassifier\n",
    "\n",
    "model = LGBMClassifier()\n",
    "model.fit(x_train, y_train)\n",
    "y_pred = model.predict(x_test)\n"
   ]
  },
  {
   "cell_type": "code",
   "execution_count": 16,
   "metadata": {},
   "outputs": [
    {
     "name": "stdout",
     "output_type": "stream",
     "text": [
      "Precision:0.5074074074074074\n",
      "Recall:0.6523809523809524\n",
      "Accuracy:0.504410585404972\n",
      "F-measure:0.5708333333333333\n"
     ]
    }
   ],
   "source": [
    "accuracy = accuracy_score(y_test, y_pred)\n",
    "precision = precision_score(y_test, y_pred,pos_label=0)\n",
    "recall = recall_score(y_test, y_pred,pos_label=0)\n",
    "fff_score = f1_score(y_test, y_pred, average='binary',pos_label=0)\n",
    "print(\"Precision:\"+str(precision))\n",
    "print(\"Recall:\"+str(recall))\n",
    "print(\"Accuracy:\"+str(accuracy))\n",
    "print(\"F-measure:\"+str(fff_score))"
   ]
  },
  {
   "cell_type": "code",
   "execution_count": null,
   "metadata": {},
   "outputs": [],
   "source": []
  }
 ],
 "metadata": {
  "kernelspec": {
   "display_name": "Python 3",
   "language": "python",
   "name": "python3"
  },
  "language_info": {
   "codemirror_mode": {
    "name": "ipython",
    "version": 3
   },
   "file_extension": ".py",
   "mimetype": "text/x-python",
   "name": "python",
   "nbconvert_exporter": "python",
   "pygments_lexer": "ipython3",
   "version": "3.7.6"
  }
 },
 "nbformat": 4,
 "nbformat_minor": 4
}
